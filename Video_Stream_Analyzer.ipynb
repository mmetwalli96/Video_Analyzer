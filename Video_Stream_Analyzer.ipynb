{
 "cells": [
  {
   "cell_type": "code",
   "execution_count": 1,
   "id": "34937760",
   "metadata": {},
   "outputs": [],
   "source": [
    "# Import dependencies\n",
    "import cv2 as cv"
   ]
  },
  {
   "cell_type": "code",
   "execution_count": 2,
   "id": "8d41cc11",
   "metadata": {},
   "outputs": [],
   "source": [
    "# Video stream source \n",
    "capture = cv.VideoCapture(\"https://10.0.0.115:8080/video\")\n",
    "while(True):\n",
    "    stream_status, frame = capture.read()\n",
    "    cv.imshow('stream', frame)\n",
    "    \n",
    "    # Stop the video stream\n",
    "    if cv.waitKey(1) == ord('q'):\n",
    "        break\n",
    "        \n",
    "capture.release()\n",
    "cv.destroyAllWindows()"
   ]
  },
  {
   "cell_type": "code",
   "execution_count": null,
   "id": "8025cccf",
   "metadata": {},
   "outputs": [],
   "source": []
  }
 ],
 "metadata": {
  "kernelspec": {
   "display_name": "Python 3 (ipykernel)",
   "language": "python",
   "name": "python3"
  },
  "language_info": {
   "codemirror_mode": {
    "name": "ipython",
    "version": 3
   },
   "file_extension": ".py",
   "mimetype": "text/x-python",
   "name": "python",
   "nbconvert_exporter": "python",
   "pygments_lexer": "ipython3",
   "version": "3.9.7"
  }
 },
 "nbformat": 4,
 "nbformat_minor": 5
}
